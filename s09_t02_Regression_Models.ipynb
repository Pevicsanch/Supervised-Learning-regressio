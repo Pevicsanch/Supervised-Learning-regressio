{
 "cells": [
  {
   "cell_type": "markdown",
   "id": "857001a9",
   "metadata": {},
   "source": [
    "$~$\n",
    "\n",
    "# IT Academy - Data Science Itinerary\n",
    "\n",
    "\n",
    "\n",
    "$~$"
   ]
  },
  {
   "cell_type": "markdown",
   "id": "ad6e86cc",
   "metadata": {},
   "source": [
    "## S9 T2: Regression Models\n",
    "___\n"
   ]
  },
  {
   "cell_type": "code",
   "execution_count": 2,
   "id": "343f71ef",
   "metadata": {
    "ExecuteTime": {
     "end_time": "2022-04-18T19:29:56.935181Z",
     "start_time": "2022-04-18T19:29:56.128291Z"
    }
   },
   "outputs": [],
   "source": [
    "#importing libraries\n",
    "import pandas as pd\n",
    "import numpy as np\n",
    "import os\n",
    "import seaborn as sns\n",
    "from sklearn.model_selection import train_test_split, cross_val_score\n",
    "from sklearn.preprocessing import StandardScaler, OneHotEncoder, PowerTransformer,MinMaxScaler\n",
    "from sklearn.impute import SimpleImputer\n",
    "from sklearn.linear_model import LinearRegression, Ridge, Lasso\n",
    "from sklearn.pipeline import Pipeline\n",
    "from sklearn.linear_model import Lasso\n",
    "import matplotlib.pyplot as plt\n",
    "from sklearn.metrics import mean_squared_error\n",
    "from sklearn.model_selection import GridSearchCV\n",
    "\n",
    "import warnings\n",
    "warnings.filterwarnings(\"ignore\")\n",
    "\n",
    "sns.set_context(\"talk\")\n",
    "plt.style.use('ggplot')\n"
   ]
  },
  {
   "cell_type": "markdown",
   "id": "7557656a",
   "metadata": {},
   "source": [
    "$~$\n",
    "___\n",
    "#### preprocesing the data:\n",
    "\n",
    "$~$"
   ]
  },
  {
   "cell_type": "markdown",
   "id": "c8629c2e",
   "metadata": {},
   "source": [
    "$~$\n",
    "\n",
    "+ As we do [before](https://github.com/Pevicsanch/train_test_sklearn) we are going to download the [dataset](https://www.kaggle.com/datasets/giovamata/airlinedelaycauses) from Kaggle and pre processing it.\n",
    "\n",
    "$~$\n",
    "\n",
    "+ let's remember, this dataset is composd by the following variables:\n",
    "\n",
    "\n",
    "   1. **Year** = 2008\n",
    "   2. **Month** = 1-12\n",
    "   3. **DayofMonth** = 1-31\n",
    "   4.\t**DayOfWeek** = 1 (Monday) - 7 (Sunday)\n",
    "   5.\t**DepTime** = actual departure time (local, hhmm)\n",
    "   6.\t**CRSDepTime** = scheduled departure time (local, hhmm)\n",
    "   7.\t**ArrTime** = actual arrival time (local, hhmm)\n",
    "   8.\t**CRSArrTime** = scheduled arrival time (local, hhmm)\n",
    "   9.\t**UniqueCarrier** = unique carrier code\n",
    "   10.\t**FlightNum** = flight number\n",
    "   11.\t**TailNum** = plane tail number: aircraft registration, unique aircraft identifier\n",
    "   12.\t**ActualElapsedTime** = in minutes\n",
    "   13.\t**CRSElapsedTime** = in minutes\n",
    "   14.\t**AirTime** = in minutes\n",
    "   15.\t**ArrDelay** = arrival delay, in minutes: A flight is counted as \"on time\" if it operated less than 15 minutes later the scheduled time shown in the carriers' Computerized Reservations Systems (CRS).\n",
    "   16.\t**DepDelay** = departure delay, in minutes\n",
    "   17.\t**Origin** = origin IATA airport code\n",
    "   18.\t**Dest** = destination IATA airport code\n",
    "   19.\t**Distance** = in miles\n",
    "   20.\t**TaxiIn** = taxi in time, in minutes\n",
    "   21.\t**TaxiOut** = taxi out time in minutes\n",
    "   22.\t**Cancelled** = *was the flight cancelled\n",
    "   23.\t**CancellationCode** = reason for cancellation (A = carrier, B = weather, C = NAS, D = security)\n",
    "   24.\t**Diverted** = 1 = yes, 0 = no\n",
    "   25.\t**CarrierDelay** = in minutes: Carrier delay is within the control of the air carrier. Examples of occurrences that may determine carrier delay are: aircraft cleaning, aircraft damage, awaiting the arrival of connecting passengers or crew, baggage, bird strike, cargo loading, catering, computer, outage-carrier equipment, crew legality (pilot or attendant rest), damage by hazardous goods, engineering inspection, fueling, handling disabled passengers, late crew, lavatory servicing, maintenance, oversales, potable water servicing, removal of unruly passenger, slow boarding or seating, stowing carry-on baggage, weight and balance delays.\n",
    "   26.\t**WeatherDelay** = in minutes: Weather delay is caused by extreme or hazardous weather conditions that are forecasted or manifest themselves on point of departure, enroute, or on point of arrival.\n",
    "   27.\t**NASDelay**  = in minutes: Delay that is within the control of the National Airspace System (NAS) may include: non-extreme weather conditions, airport operations, heavy traffic volume, air traffic control, etc.\n",
    "   28.\t**SecurityDelay** = in minutes: Security delay is caused by evacuation of a terminal or concourse, re-boarding of aircraft because of security breach, inoperative screening equipment and/or long lines in excess of 29 minutes at screening areas.\n",
    "   29.\t**LateAircraftDelay** = in minutes: Arrival delay at an airport due to the late arrival of the same aircraft at a previous airport. The ripple effect of an earlier delay at downstream airports is referred to as delay propagation.\n",
    "\n",
    "   $~$\n"
   ]
  },
  {
   "cell_type": "code",
   "execution_count": 3,
   "id": "339133dd",
   "metadata": {
    "ExecuteTime": {
     "end_time": "2022-04-18T19:29:59.237200Z",
     "start_time": "2022-04-18T19:29:56.936029Z"
    }
   },
   "outputs": [
    {
     "name": "stdout",
     "output_type": "stream",
     "text": [
      "./data/st99_d00.shp\n",
      "./data/st99_d00.shx\n",
      "./data/st99_d00.dbf\n",
      "./data/DelayedFlights.csv\n"
     ]
    }
   ],
   "source": [
    "PATH = \"./data\"\n",
    "#downloanding the data set:\n",
    "if not os.path.exists(PATH):\n",
    "    os.makedirs(PATH)\n",
    "if not os.listdir(PATH):\n",
    "    !kaggle datasets download -d \"giovamata/airlinedelaycauses\" --unzip  -p $PATH  \n",
    "\n",
    "# check the files:\n",
    "files = [os.path.join(PATH, f) for f in os.listdir(PATH)]\n",
    "for f in files:\n",
    "    print(f)\n",
    "\n",
    "# load the dataset into a pandas dataframe:\n",
    "df = pd.read_csv(files[3], index_col=[0])\n"
   ]
  },
  {
   "cell_type": "markdown",
   "id": "13ba5f27",
   "metadata": {},
   "source": [
    "$~$\n",
    "\n",
    "+ About the pre-processing process:\n",
    "\n",
    "    +  Since our target variable will be **\"ArrDelay\"** (*for this exercise we specifically propose to know which flights arrived delayed ( or not) and analyze what variables influence it*), the first thing to keep in mind is that if a flight has been canceled it is impossible for it to reach its destination, so we will not consider those flights for our analysis on delay.\n",
    "\n",
    "    +  Morever when **\"Arrival Delay\"** is longer than 15 minutes there's data about what caused the delay. Arrival Delay is the sum of CarrierDelay, WeatherDelay, NASDelay and LateAircraftDelay.\n",
    "\n",
    "    +  As our target variable is \"ArrDelay\" it also makes no sense to leave the variable \"Security Delay\" as it only has values when there is a delay. So, we are able to drop this variable too\n",
    "    \n",
    "    + Notice that our target variable (ArrDelay) has negative values . For this exercise, we will consider these values (values equal to or less than zero) as an indicate for those flights arrived on time.\n",
    "\n",
    "    + \"Year\", which only has a value of \"2018\", does not make sense to keep within our set of independent variables.\n",
    "\n",
    "    +  we are going to change type from \"int64\" and \"object\" to \"categorical\": \n",
    "\n",
    "        + Month, DayofMonth, DayOfWeek, Diverted, and FlightNum: these variables are really categorical, and in the case of month and days, they are ordinal. And for \"flight number\", although it is a number, it is really a label that is repeated\n",
    "        \n",
    "       + Same for Origin,Dest,TailNum, UniqueCarrier,Diverted are categorical\n",
    "    \n",
    "    + For the missing values in \"TailNum\" we are going to delete it. Since if we cannot identify the flight, there is little we can do with those values\n",
    "\n",
    "    + for the other missing/null values convert the NaN values to the mean\n",
    "\n",
    "\n",
    "\n",
    "$~$"
   ]
  },
  {
   "cell_type": "code",
   "execution_count": 4,
   "id": "d8c4c1c7",
   "metadata": {
    "ExecuteTime": {
     "end_time": "2022-04-18T19:29:59.928190Z",
     "start_time": "2022-04-18T19:29:59.238605Z"
    }
   },
   "outputs": [],
   "source": [
    "# keep values cancelled ==1 (flights cancelled) in a diferent dataframe.\n",
    "df_cancelled = df.loc[df['Cancelled'] == 1]\n",
    "\n",
    "\n",
    "# New dataframe with out cancelled values\n",
    "df_analisys = df.loc[df['Cancelled'] == 0].copy()\n",
    "\n",
    "# As we aren't going to use it, we can drop \"Cacelled\" and \"CancellationCode\" columns from our new dataframe\n",
    "df_analisys.drop(columns=[\"Cancelled\", \"CancellationCode\"], inplace=True)\n",
    "\n",
    "# copy variables which described caused of the delay into a diferent dataframe to evaluate multicollinearity\n",
    "df_cause_delay = df_analisys[[\n",
    "    \"CarrierDelay\", \"WeatherDelay\", \"NASDelay\", \"LateAircraftDelay\"]].copy()\n",
    "\n",
    "# keep non necessary variables in a df_non_necessary_\n",
    "df_non_necessary = df_analisys[[\"CarrierDelay\",\n",
    "                                \"WeatherDelay\", \"NASDelay\", \"LateAircraftDelay\"]]\n",
    "\n",
    "# drop non necessary variables from our df_analisys dataframe\n",
    "df_analisys.drop(columns=[\"CarrierDelay\", \"WeatherDelay\",\n",
    "                 \"NASDelay\", \"LateAircraftDelay\"], inplace=True)\n",
    "\n",
    "df_analisys.drop(columns=[\"SecurityDelay\"], inplace=True)\n",
    "\n",
    "# where 0 = delayed & 1 = on time\n",
    "df_analisys['with_delay'] = np.where(df_analisys['ArrDelay'] <= 0, 1, 0)\n",
    "\n",
    "# drop Year from the set of independent variables.\n",
    "df_analisys.drop(['Year'], axis=1, inplace=True)\n",
    "\n"
   ]
  },
  {
   "cell_type": "code",
   "execution_count": 5,
   "id": "648d0d66",
   "metadata": {
    "ExecuteTime": {
     "end_time": "2022-04-18T19:30:00.305588Z",
     "start_time": "2022-04-18T19:29:59.929108Z"
    }
   },
   "outputs": [],
   "source": [
    "# changing types:\n",
    "to_change = [\"Month\", \"DayofMonth\", \"DayOfWeek\", \"Diverted\",\n",
    "             \"FlightNum\", \"Origin\", \"Dest\", \"TailNum\", \"UniqueCarrier\",\n",
    "             \"Diverted\"]\n",
    "\n",
    "for x in to_change:\n",
    "    df_analisys[x] = df_analisys[x].astype(\"category\")"
   ]
  },
  {
   "cell_type": "code",
   "execution_count": 6,
   "id": "64a433a7",
   "metadata": {
    "ExecuteTime": {
     "end_time": "2022-04-18T19:30:02.050833Z",
     "start_time": "2022-04-18T19:30:00.306313Z"
    }
   },
   "outputs": [
    {
     "name": "stdout",
     "output_type": "stream",
     "text": [
      "duplicated values:  2\n"
     ]
    }
   ],
   "source": [
    "# check for duplicates\n",
    "print(\"duplicated values: \", sum(df_analisys.duplicated()))\n",
    "\n",
    "# drop duplicates\n",
    "df_analisys.drop_duplicates(inplace=True)"
   ]
  },
  {
   "cell_type": "code",
   "execution_count": 7,
   "id": "6ece85e6",
   "metadata": {
    "ExecuteTime": {
     "end_time": "2022-04-18T19:30:02.097951Z",
     "start_time": "2022-04-18T19:30:02.051606Z"
    }
   },
   "outputs": [
    {
     "data": {
      "text/plain": [
       "Month                   0\n",
       "DayofMonth              0\n",
       "DayOfWeek               0\n",
       "DepTime                 0\n",
       "CRSDepTime              0\n",
       "ArrTime              6477\n",
       "CRSArrTime              0\n",
       "UniqueCarrier           0\n",
       "FlightNum               0\n",
       "TailNum                 5\n",
       "ActualElapsedTime    7754\n",
       "CRSElapsedTime        198\n",
       "AirTime              7754\n",
       "ArrDelay             7754\n",
       "DepDelay                0\n",
       "Origin                  0\n",
       "Dest                    0\n",
       "Distance                0\n",
       "TaxiIn               6477\n",
       "TaxiOut                 0\n",
       "Diverted                0\n",
       "with_delay              0\n",
       "dtype: int64"
      ]
     },
     "execution_count": 7,
     "metadata": {},
     "output_type": "execute_result"
    }
   ],
   "source": [
    "# check for the Missing values by column:\n",
    "df_analisys.isnull().sum()\n"
   ]
  },
  {
   "cell_type": "code",
   "execution_count": 8,
   "id": "fb05fbd4",
   "metadata": {
    "ExecuteTime": {
     "end_time": "2022-04-18T19:30:02.184438Z",
     "start_time": "2022-04-18T19:30:02.098947Z"
    }
   },
   "outputs": [],
   "source": [
    "#delete null values in \"TailNum\"\n",
    "df_analisys.dropna(subset=['TailNum'], inplace=True)\n"
   ]
  },
  {
   "cell_type": "code",
   "execution_count": 9,
   "id": "b4099e35",
   "metadata": {
    "ExecuteTime": {
     "end_time": "2022-04-18T19:30:02.200048Z",
     "start_time": "2022-04-18T19:30:02.185141Z"
    }
   },
   "outputs": [],
   "source": [
    "#filter columns with null values\n",
    "columns_null= df_analisys.columns[df_analisys.isna().any()].tolist()"
   ]
  },
  {
   "cell_type": "code",
   "execution_count": 10,
   "id": "95b6c138",
   "metadata": {
    "ExecuteTime": {
     "end_time": "2022-04-18T19:30:02.404663Z",
     "start_time": "2022-04-18T19:30:02.202041Z"
    }
   },
   "outputs": [],
   "source": [
    "#imputing missing data, convert the NaN values to the mean.\n",
    "\n",
    "imp = SimpleImputer (missing_values=np.nan, strategy=\"mean\")\n",
    "imp.fit(df_analisys[columns_null])\n",
    "df_analisys[columns_null] = imp.transform(df_analisys[columns_null])"
   ]
  },
  {
   "cell_type": "code",
   "execution_count": 11,
   "id": "ea9ff52e",
   "metadata": {
    "ExecuteTime": {
     "end_time": "2022-04-18T19:30:02.453577Z",
     "start_time": "2022-04-18T19:30:02.405444Z"
    }
   },
   "outputs": [
    {
     "name": "stdout",
     "output_type": "stream",
     "text": [
      "Month                0\n",
      "DayofMonth           0\n",
      "DayOfWeek            0\n",
      "DepTime              0\n",
      "CRSDepTime           0\n",
      "ArrTime              0\n",
      "CRSArrTime           0\n",
      "UniqueCarrier        0\n",
      "FlightNum            0\n",
      "TailNum              0\n",
      "ActualElapsedTime    0\n",
      "CRSElapsedTime       0\n",
      "AirTime              0\n",
      "ArrDelay             0\n",
      "DepDelay             0\n",
      "Origin               0\n",
      "Dest                 0\n",
      "Distance             0\n",
      "TaxiIn               0\n",
      "TaxiOut              0\n",
      "Diverted             0\n",
      "with_delay           0\n",
      "dtype: int64\n"
     ]
    }
   ],
   "source": [
    "print(df_analisys.isnull().sum())\n"
   ]
  },
  {
   "cell_type": "markdown",
   "id": "f3e67431",
   "metadata": {},
   "source": [
    "$~$\n",
    "\n",
    "As the dataset is large, we are going to perform a sampling of 1% the dataset\n",
    "\n",
    "$~$"
   ]
  },
  {
   "cell_type": "code",
   "execution_count": 12,
   "id": "ddb9c410",
   "metadata": {
    "ExecuteTime": {
     "end_time": "2022-04-18T19:30:02.528251Z",
     "start_time": "2022-04-18T19:30:02.454414Z"
    }
   },
   "outputs": [],
   "source": [
    "#performing a sample \n",
    "df_analisys_sample = df_analisys.sample(frac=0.01, random_state=42)\n",
    "\n",
    "#cleaning the memory\n",
    "del df_analisys"
   ]
  },
  {
   "cell_type": "code",
   "execution_count": 13,
   "id": "43044d9a",
   "metadata": {
    "ExecuteTime": {
     "end_time": "2022-04-18T19:30:02.531459Z",
     "start_time": "2022-04-18T19:30:02.529076Z"
    }
   },
   "outputs": [],
   "source": [
    "# dependent variables\n",
    "y = df_analisys_sample[[\"ArrDelay\"]]\n",
    "\n",
    "# independent variables\n",
    "X = df_analisys_sample.drop([\"ArrDelay\", \"with_delay\"], axis=1)\n"
   ]
  },
  {
   "cell_type": "code",
   "execution_count": 14,
   "id": "cb42b5e4",
   "metadata": {
    "ExecuteTime": {
     "end_time": "2022-04-18T19:30:02.592093Z",
     "start_time": "2022-04-18T19:30:02.532591Z"
    }
   },
   "outputs": [],
   "source": [
    "#filter categorical variables\n",
    "X_cat = X.select_dtypes(include=[\"category\"])\n",
    "\n",
    "#\"Month\",\"DayofMonth\",\"DayOfWeek\" are already label\n",
    "X_label= X_cat[[\"Month\",\"DayofMonth\",\"DayOfWeek\"]]\n",
    "\n",
    "X_cat = X_cat.drop ([\"Month\",\"DayofMonth\",\"DayOfWeek\"], axis=1)\n",
    "\n",
    "#filter numerical variables\n",
    "\n",
    "X_num= X.select_dtypes(include=[\"int64\",\"float64\"])\n",
    "\n",
    "#encoding dummy variables\n",
    "coder = OneHotEncoder(handle_unknown=\"ignore\",drop='if_binary') #drop binary to avoid multicollinarity \n",
    "result = coder.fit_transform(X_cat)\n",
    "X_cat_encoder = pd.DataFrame.sparse.from_spmatrix(result)\n",
    "X_cat_encoder.columns = coder.get_feature_names_out()\n"
   ]
  },
  {
   "cell_type": "code",
   "execution_count": 15,
   "id": "9584daa2",
   "metadata": {
    "ExecuteTime": {
     "end_time": "2022-04-18T19:30:02.712326Z",
     "start_time": "2022-04-18T19:30:02.592844Z"
    }
   },
   "outputs": [],
   "source": [
    "#prepare the explanatory variable\n",
    "X_label_ =  X_label.reset_index(drop=True)\n",
    "X_num_ = X_num.reset_index(drop=True)\n",
    "X_cat_encoder = X_cat_encoder.reset_index(drop=True)\n",
    "\n",
    "frames = [X_label_, X_cat_encoder, X_num_]\n",
    "\n",
    "\n",
    "X = pd.concat(frames, axis=1)\n",
    "\n"
   ]
  },
  {
   "cell_type": "markdown",
   "id": "ba3a85db",
   "metadata": {},
   "source": [
    "$~$\n",
    "\n",
    "+ check if our independent variables present multicollinearity:\n",
    "\n",
    "$~$"
   ]
  },
  {
   "cell_type": "code",
   "execution_count": 16,
   "id": "f6b42f79",
   "metadata": {
    "ExecuteTime": {
     "end_time": "2022-04-18T19:30:02.902606Z",
     "start_time": "2022-04-18T19:30:02.713304Z"
    }
   },
   "outputs": [
    {
     "data": {
      "image/png": "[encoded data removed]",
      "text/plain": [
       "<Figure size 1080x720 with 2 Axes>"
      ]
     },
     "metadata": {},
     "output_type": "display_data"
    }
   ],
   "source": [
    "# Correlation matrix\n",
    "fig, ax = plt.subplots(figsize=(15, 10))\n",
    "corr = X_num.corr()\n",
    "sns.set_theme(style=\"white\")\n",
    "cmap = sns.diverging_palette(230, 20, as_cmap=True)\n",
    "\n",
    "matrix = np.triu(corr)\n",
    "sns.heatmap(corr, annot=True, mask=matrix, cmap=cmap)\n",
    "plt.show()\n"
   ]
  },
  {
   "cell_type": "markdown",
   "id": "42c31538",
   "metadata": {},
   "source": [
    "$~$\n",
    "___\n",
    "####  Exercise 1\n",
    "\n",
    "$~$\n",
    "\n",
    "Create at least three different regression models to try to predict DelayedFlights.csv's flight delay (ArrDelay) as best you can. \n",
    "\n",
    "$~$\n",
    "___"
   ]
  },
  {
   "cell_type": "markdown",
   "id": "d45be8e6",
   "metadata": {},
   "source": [
    "$~$\n",
    "\n",
    "We are going to performace 3 regressions:\n",
    "\n",
    "+   Linear regression (using numeric features)\n",
    "+   Ridge regression (using all features)\n",
    "+   Lasso regression (using all features)\n",
    "\n",
    "$~$\n",
    "\n",
    "##### Linear regression\n",
    "\n",
    "$~$\n",
    "\n",
    "+ as the first task, let's performing a linear regression  using numeric features\n",
    "\n",
    "$~$\n"
   ]
  },
  {
   "cell_type": "code",
   "execution_count": 17,
   "id": "bbd0cd8e",
   "metadata": {
    "ExecuteTime": {
     "end_time": "2022-04-18T19:30:02.919673Z",
     "start_time": "2022-04-18T19:30:02.903506Z"
    }
   },
   "outputs": [
    {
     "name": "stdout",
     "output_type": "stream",
     "text": [
      "R^2: 0.9827848567809067\n",
      "Root Mean Squared Error: 7.481332662040825\n"
     ]
    }
   ],
   "source": [
    "#creating feature and target arrays\n",
    "\n",
    "# X_reg = X_num.values\n",
    "# y_reg = y[\"ArrDelay\"].values\n",
    "\n",
    "\n",
    "# # Create training and test sets\n",
    "X_train, X_test, y_train, y_test = train_test_split(X_num_,\n",
    "y, test_size = 0.3, random_state=42)\n",
    "\n",
    "#  # Create the regressor: reg_all\n",
    "reg_all = LinearRegression()\n",
    "\n",
    "# # Fit the regressor to the training data\n",
    "reg_all.fit(X_train,y_train)\n",
    "\n",
    "# # Predict on the test data: y_pred\n",
    "y_pred = reg_all.predict(X_test)\n",
    "\n",
    "# # Compute and print R^2 and RMSE\n",
    "r2_reg = reg_all.score(X_test, y_test)\n",
    "print(\"R^2: {}\".format(r2_reg))\n",
    "\n",
    "rmse_reg = np.sqrt(mean_squared_error(y_test,y_pred))\n",
    "\n",
    "print(\"Root Mean Squared Error: {}\".format(rmse_reg))\n"
   ]
  },
  {
   "cell_type": "markdown",
   "id": "ecb25f18",
   "metadata": {},
   "source": [
    "The predictions of the final model are on average 7.48 min away from the real value.\n",
    "\n",
    "$~$\n"
   ]
  },
  {
   "cell_type": "markdown",
   "id": "1e0c227e",
   "metadata": {},
   "source": [
    "##### Ridge regression: Regression with all features\n",
    "\n",
    "$~$\n",
    "\n",
    "+  let's try using all features\n",
    "\n",
    "$~$"
   ]
  },
  {
   "cell_type": "code",
   "execution_count": 18,
   "id": "95783720",
   "metadata": {
    "ExecuteTime": {
     "end_time": "2022-04-18T19:30:20.852882Z",
     "start_time": "2022-04-18T19:30:02.921900Z"
    }
   },
   "outputs": [
    {
     "name": "stdout",
     "output_type": "stream",
     "text": [
      "R^2: 0.9736701121574977\n",
      "Root Mean Squared Error: 9.2522668679228\n"
     ]
    }
   ],
   "source": [
    "# Create training and test sets\n",
    "# X_ridge = X.values\n",
    "# y_ridge = y[\"ArrDelay\"].values\n",
    "\n",
    "X_train, X_test, y_train, y_test = train_test_split(X, y,\n",
    "test_size = 0.3, random_state=42)\n",
    "\n",
    "# Create the regressor: ridge\n",
    "ridge =Ridge()\n",
    "\n",
    "# Fit the regressor to the training data\n",
    "ridge.fit(X_train,y_train)\n",
    "\n",
    "# # Predict on the test data: y_pred\n",
    "y_pred = ridge.predict(X_test)\n",
    "\n",
    "# # Compute and print R^2 and RMSE\n",
    "r2_ridge = ridge.score(X_test, y_test)\n",
    "print(\"R^2: {}\".format(r2_ridge))\n",
    "rmse_ridge = np.sqrt(mean_squared_error(y_test,y_pred))\n",
    "print(\"Root Mean Squared Error: {}\".format(rmse_ridge))"
   ]
  },
  {
   "cell_type": "markdown",
   "id": "250eb0e4",
   "metadata": {},
   "source": [
    "The predictions of the final model are on average 9.25 min away from the real value.\n",
    "\n",
    "$~$\n",
    "\n"
   ]
  },
  {
   "cell_type": "markdown",
   "id": "27b27efa",
   "metadata": {},
   "source": [
    "#####  Lassso Regression: Regression with all features\n",
    "\n",
    "$~$\n",
    "\n",
    "+  let's try using all features, and check how many features will the model select to use\n",
    "\n",
    "$~$"
   ]
  },
  {
   "cell_type": "code",
   "execution_count": 19,
   "id": "787c9523",
   "metadata": {
    "ExecuteTime": {
     "end_time": "2022-04-18T19:30:21.863449Z",
     "start_time": "2022-04-18T19:30:20.879643Z"
    }
   },
   "outputs": [
    {
     "name": "stdout",
     "output_type": "stream",
     "text": [
      "R^2: 0.9827777098609054\n",
      "Root Mean Squared Error: 7.482885450103868\n",
      "Number of features used: 11\n"
     ]
    }
   ],
   "source": [
    "# Create training and test sets\n",
    "# X_lasso = X.values\n",
    "# y_lasso = y[\"ArrDelay\"].values\n",
    "\n",
    "X_train, X_test, y_train, y_test = train_test_split(X_num, y,\n",
    "test_size = 0.3, random_state=42)\n",
    "\n",
    "# Create the regressor: lasso\n",
    "lasso =Lasso()\n",
    "\n",
    "# Fit the regressor to the training data\n",
    "lasso.fit(X_train,y_train)\n",
    "\n",
    "# # Predict on the test data: y_pred\n",
    "y_pred = lasso.predict(X_test)\n",
    "\n",
    "# # Compute and print R^2 and RMSE\n",
    "r2_lasso = lasso.score(X_test, y_test)\n",
    "print(\"R^2: {}\".format(r2_lasso))\n",
    "\n",
    "rmse_lasso = np.sqrt(mean_squared_error(y_test,y_pred))\n",
    "\n",
    "print(\"Root Mean Squared Error: {}\".format(rmse_lasso))\n",
    "print(\"Number of features used: {}\".format(np.sum(lasso.coef_ != 0)))\n"
   ]
  },
  {
   "cell_type": "markdown",
   "id": "4a5904fe",
   "metadata": {},
   "source": [
    "The predictions of the final model are on average 7.48 min away from the real value. In addition, the number of variables chosen by the model coincides with the number of variables that we use in the linear regression model (11 features).\n",
    "\n",
    "$~$\n"
   ]
  },
  {
   "cell_type": "markdown",
   "id": "214112c9",
   "metadata": {},
   "source": [
    "$~$\n",
    "___\n",
    "####  Exercise 2\n",
    "\n",
    "$~$\n",
    "\n",
    "Compare them based on MSE and R2.\n",
    "\n",
    "$~$\n",
    "___"
   ]
  },
  {
   "cell_type": "code",
   "execution_count": 20,
   "id": "df9c3695",
   "metadata": {
    "ExecuteTime": {
     "end_time": "2022-04-18T19:30:21.929953Z",
     "start_time": "2022-04-18T19:30:21.868716Z"
    }
   },
   "outputs": [
    {
     "data": {
      "text/html": [
       "<div>\n",
       "<style scoped>\n",
       "    .dataframe tbody tr th:only-of-type {\n",
       "        vertical-align: middle;\n",
       "    }\n",
       "\n",
       "    .dataframe tbody tr th {\n",
       "        vertical-align: top;\n",
       "    }\n",
       "\n",
       "    .dataframe thead th {\n",
       "        text-align: right;\n",
       "    }\n",
       "</style>\n",
       "<table border=\"1\" class=\"dataframe\">\n",
       "  <thead>\n",
       "    <tr style=\"text-align: right;\">\n",
       "      <th></th>\n",
       "      <th>R^2</th>\n",
       "      <th>RMSE</th>\n",
       "    </tr>\n",
       "  </thead>\n",
       "  <tbody>\n",
       "    <tr>\n",
       "      <th>Linear_regression</th>\n",
       "      <td>0.982785</td>\n",
       "      <td>7.481333</td>\n",
       "    </tr>\n",
       "    <tr>\n",
       "      <th>Ridge_regression</th>\n",
       "      <td>0.973670</td>\n",
       "      <td>9.252267</td>\n",
       "    </tr>\n",
       "    <tr>\n",
       "      <th>Lasso_regression</th>\n",
       "      <td>0.982778</td>\n",
       "      <td>7.482885</td>\n",
       "    </tr>\n",
       "  </tbody>\n",
       "</table>\n",
       "</div>"
      ],
      "text/plain": [
       "                        R^2      RMSE\n",
       "Linear_regression  0.982785  7.481333\n",
       "Ridge_regression   0.973670  9.252267\n",
       "Lasso_regression   0.982778  7.482885"
      ]
     },
     "execution_count": 20,
     "metadata": {},
     "output_type": "execute_result"
    }
   ],
   "source": [
    "# assign data of lists.  \n",
    "data = {'R^2':[r2_reg,r2_ridge,r2_lasso], 'RMSE':[rmse_reg,rmse_ridge,rmse_lasso]}  \n",
    "  \n",
    "# Creates pandas DataFrame.  \n",
    "df = pd.DataFrame(data, index =['Linear_regression', 'Ridge_regression', 'Lasso_regression'])  \n",
    "  \n",
    "# print the dataframe\n",
    "df\n"
   ]
  },
  {
   "cell_type": "markdown",
   "id": "38d91d67",
   "metadata": {},
   "source": [
    "$~$\n",
    "\n",
    " + In the table below shows:\n",
    " \n",
    "    + The  score of Ridge regression is lower than for LinearRegression. This is consistent with our expectation. With linear regression, we were overfitting our data. Ridge is a more restricted model, so we are less likely to overfit. \n",
    "\n",
    "    + Lasso regression not only selects the most significant variables (in this case 11 and that coincide with the number of variables of the linear regression) it also gives us values close to those of the linear regression\n",
    "$~$"
   ]
  },
  {
   "cell_type": "markdown",
   "id": "d7caa1ff",
   "metadata": {},
   "source": [
    "$~$\n",
    "___\n",
    "####  Exercise 3\n",
    "\n",
    "$~$\n",
    "\n",
    "Train them using the different parameters they support.\n",
    "\n",
    "$~$\n",
    "___"
   ]
  },
  {
   "cell_type": "markdown",
   "id": "bd8db8af",
   "metadata": {},
   "source": [
    "$~$\n",
    "\n",
    "Although it is possible to optimize the hyperparameters of the models using Random Search and Grid Search, for this exercise we will use only Grid search.\n",
    "\n",
    "$~$\n"
   ]
  },
  {
   "cell_type": "markdown",
   "id": "a41ed57e",
   "metadata": {},
   "source": [
    "$~$\n",
    "\n",
    "+ Linear regression: \n",
    "\n",
    "$~$\n",
    "\n",
    "\n",
    "Even though the linear regression model does not have hyperparameters that can be tuned. Let's try using Gridsearch to fit some atributes of the model values:\n",
    "\n",
    "$~$\n"
   ]
  },
  {
   "cell_type": "code",
   "execution_count": 21,
   "id": "b0fe42e7",
   "metadata": {
    "ExecuteTime": {
     "end_time": "2022-04-18T19:30:22.591227Z",
     "start_time": "2022-04-18T19:30:21.937162Z"
    }
   },
   "outputs": [
    {
     "name": "stdout",
     "output_type": "stream",
     "text": [
      "Tuned lineal Regression Parameters: {'copy_X': True, 'fit_intercept': True, 'normalize': True, 'positive': False}\n",
      "Best score is 0.9796286966783908\n",
      "Root Mean Squared Error: 7.481332662040825\n"
     ]
    }
   ],
   "source": [
    "# # Create training and test sets\n",
    "X_train, X_test, y_train, y_test = train_test_split(X_num_, y,\n",
    "    test_size=0.3,random_state =42 )\n",
    "\n",
    "# Setup the hyperparameter grid\n",
    "parameters = {'fit_intercept':[True,False], 'normalize':[True,False],\n",
    " 'copy_X':[True, False], \"positive\": [True,False]}\n",
    "# Instantiate a linear regression:\n",
    "reg_all = LinearRegression()\n",
    "\n",
    "#instantiate the GridSearchCV object: reg_grid\n",
    "\n",
    "reg_grid = GridSearchCV(reg_all,parameters, cv=3)\n",
    "\n",
    "# Fit it to the data\n",
    "\n",
    "reg_grid.fit(X_train,y_train)\n",
    "\n",
    "# # Predict on the test data: y_pred\n",
    "y_pred = reg_grid.predict(X_test)\n",
    "\n",
    "\n",
    "\n",
    "# Print the tuned parameters and score\n",
    "\n",
    "print(\"Tuned lineal Regression Parameters: {}\".format(reg_grid.best_params_)) \n",
    "\n",
    "r2_reg_grid = reg_grid.best_score_\n",
    "\n",
    "print(\"Best score is {}\".format(r2_reg_grid))\n",
    "\n",
    "rmse_reg_grid = np.sqrt(mean_squared_error(y_test,y_pred))\n",
    "\n",
    "print(\"Root Mean Squared Error: {}\".format(rmse_reg))\n"
   ]
  },
  {
   "cell_type": "markdown",
   "id": "bb1e8d26",
   "metadata": {},
   "source": [
    "$~$\n",
    "\n",
    "+ ridge regression: \n",
    "\n",
    "$~$\n",
    "\n",
    "We are going to use Gridsearch to find the best alpha parameter for the model"
   ]
  },
  {
   "cell_type": "code",
   "execution_count": 22,
   "id": "9cb9e968",
   "metadata": {
    "ExecuteTime": {
     "end_time": "2022-04-18T19:37:01.028826Z",
     "start_time": "2022-04-18T19:30:22.593743Z"
    }
   },
   "outputs": [
    {
     "name": "stdout",
     "output_type": "stream",
     "text": [
      "Tuned lineal Regression Parameters: {'alpha': 1}\n",
      "Best score is 0.9762650824872631\n",
      "Root Mean Squared Error: 9.2522668679228\n"
     ]
    }
   ],
   "source": [
    "# # Create training and test sets\n",
    "X_train, X_test, y_train, y_test = train_test_split(X, y,\n",
    "test_size = 0.3, random_state=42)\n",
    "\n",
    "# Setup the hyperparameter grid\n",
    "\n",
    "params_Ridge = {'alpha': [1,0.1,0.01,0] }\n",
    "\n",
    "# Create the regressor: ridge\n",
    "ridge =Ridge()\n",
    "\n",
    "#instantiate the GridSearchCV object: rigde_grid\n",
    "\n",
    "rigde_grid = GridSearchCV(ridge,params_Ridge, cv=3)\n",
    "# Fit it to the data\n",
    "\n",
    "rigde_grid.fit(X_train,y_train)\n",
    "\n",
    "\n",
    "# # Predict on the test data: y_pred\n",
    "y_pred = rigde_grid.predict(X_test)\n",
    "\n",
    "\n",
    "# Print the tuned parameters and score\n",
    "print(\"Tuned lineal Regression Parameters: {}\".format(rigde_grid.best_params_)) \n",
    "\n",
    "r2_ridge_grid = rigde_grid.best_score_\n",
    "\n",
    "print(\"Best score is {}\".format(r2_ridge_grid))\n",
    "\n",
    "rmse_rigde_grid = np.sqrt(mean_squared_error(y_test,y_pred))\n",
    "\n",
    "print(\"Root Mean Squared Error: {}\".format(rmse_rigde_grid))\n"
   ]
  },
  {
   "cell_type": "markdown",
   "id": "e945f3d3",
   "metadata": {},
   "source": [
    "$~$\n",
    "\n",
    "+ Lasso regression: \n",
    "\n",
    "$~$\n",
    "\n",
    "We are going to use Gridsearch to find the best alpha parameter for the model"
   ]
  },
  {
   "cell_type": "code",
   "execution_count": 23,
   "id": "dee65b0c",
   "metadata": {
    "ExecuteTime": {
     "end_time": "2022-04-18T19:48:49.623569Z",
     "start_time": "2022-04-18T19:37:01.039258Z"
    }
   },
   "outputs": [
    {
     "name": "stdout",
     "output_type": "stream",
     "text": [
      "Tuned lineal Regression Parameters: {'alpha': 1}\n",
      "Best score is 0.9796894226109717\n",
      "Root Mean Squared Error: 7.482885325672634\n"
     ]
    }
   ],
   "source": [
    "# # Create training and test sets\n",
    "X_train, X_test, y_train, y_test = train_test_split(X, y,\n",
    "test_size = 0.3, random_state=42)\n",
    "# Setup the hyperparameter grid\n",
    "\n",
    "params = {'alpha': [1,0.1,0.01,0]}\n",
    "lasso = Lasso()\n",
    "\n",
    "# instantiate the GridSearchCV object: lasso_grid\n",
    "\n",
    "lasso_grid = GridSearchCV(lasso, params, cv = 3)\n",
    "\n",
    "# Fit it to the data\n",
    "lasso_grid.fit(X_train, y_train)\n",
    "\n",
    "# # Predict on the test data: y_pred\n",
    "y_pred = lasso_grid.predict(X_test)\n",
    "\n",
    "\n",
    "# Print the tuned parameters and score\n",
    "print(\"Tuned lineal Regression Parameters: {}\".format(lasso_grid.best_params_)) \n",
    "\n",
    "r2_lasso_grid = lasso_grid.best_score_\n",
    "print(\"Best score is {}\".format(r2_lasso_grid))\n",
    "\n",
    "rmse_lasso_grid = np.sqrt(mean_squared_error(y_test,y_pred))\n",
    "\n",
    "print(\"Root Mean Squared Error: {}\".format(rmse_lasso_grid))\n"
   ]
  },
  {
   "cell_type": "markdown",
   "id": "84b4ec26",
   "metadata": {},
   "source": [
    "$~$\n",
    "___\n",
    "####  Exercise 4\n",
    "\n",
    "$~$\n",
    "\n",
    "Compare your performance using the train / test approach or using all data (internal validation)\n",
    "\n",
    "$~$\n",
    "___"
   ]
  },
  {
   "cell_type": "markdown",
   "id": "ba05d359",
   "metadata": {},
   "source": [
    "$~$\n",
    "\n",
    "Let's try our models using Cross validation:\n",
    "\n",
    "$~$\n"
   ]
  },
  {
   "cell_type": "markdown",
   "id": "59ed0bfd",
   "metadata": {},
   "source": [
    "+ linear regression:"
   ]
  },
  {
   "cell_type": "code",
   "execution_count": 26,
   "id": "3b3080d5",
   "metadata": {
    "ExecuteTime": {
     "end_time": "2022-04-18T19:56:32.959632Z",
     "start_time": "2022-04-18T19:56:32.811004Z"
    }
   },
   "outputs": [
    {
     "name": "stdout",
     "output_type": "stream",
     "text": [
      "[0.99442803 0.97181074 0.97888641 0.97393024 0.98506255]\n",
      "Average 5-Fold CV Score: 0.9808235943683543\n"
     ]
    }
   ],
   "source": [
    "# Create a linear regression object: reg\n",
    "\n",
    "reg = LinearRegression()\n",
    "\n",
    "# Compute 5-fold cross-validation scores: cv_scores\n",
    "cv_scores = cross_val_score(reg,X_num_,y,cv=5) \n",
    "\n",
    "# Print the 5-fold cross-validation scores\n",
    "print(cv_scores)\n",
    "\n",
    "print(\"Average 5-Fold CV Score: {}\".format(np.mean(cv_scores)))"
   ]
  },
  {
   "cell_type": "markdown",
   "id": "b84769e6",
   "metadata": {},
   "source": [
    "+ ridge regression:"
   ]
  },
  {
   "cell_type": "code",
   "execution_count": 27,
   "id": "c0e2c4f0",
   "metadata": {
    "ExecuteTime": {
     "end_time": "2022-04-18T19:58:08.090677Z",
     "start_time": "2022-04-18T19:56:32.976128Z"
    }
   },
   "outputs": [
    {
     "name": "stdout",
     "output_type": "stream",
     "text": [
      "[0.98826807 0.96951569 0.97489098 0.96723647 0.9781799 ]\n",
      "Average 5-Fold CV Score: 0.9756182219538576\n"
     ]
    }
   ],
   "source": [
    "# Instantiate a ridge regressor: ridge\n",
    "ridge = Ridge()\n",
    "\n",
    "# Perform -fold cross-validation: ridge_cv\n",
    "ridge_cv = cross_val_score(ridge,X,y,cv=5)\n",
    "\n",
    "# Print the cross-validated scores\n",
    "print(ridge_cv)\n",
    "\n",
    "print(\"Average 5-Fold CV Score: {}\".format(np.mean(ridge_cv)))"
   ]
  },
  {
   "cell_type": "markdown",
   "id": "1ff76dc4",
   "metadata": {},
   "source": [
    "+ lasso regression:"
   ]
  },
  {
   "cell_type": "code",
   "execution_count": 28,
   "id": "875418be",
   "metadata": {
    "ExecuteTime": {
     "end_time": "2022-04-18T20:05:13.153648Z",
     "start_time": "2022-04-18T19:58:08.105921Z"
    }
   },
   "outputs": [
    {
     "name": "stdout",
     "output_type": "stream",
     "text": [
      "[0.99441804 0.97190085 0.97882321 0.97388444 0.98504906]\n",
      "Average 5-Fold CV Score: 0.9808151201402062\n"
     ]
    }
   ],
   "source": [
    "# Instantiate a lasso regressor: lasso\n",
    "lasso = Lasso()\n",
    "\n",
    "# Perform 5-fold cross-validation: lasso_cv\n",
    "lasso_cv = cross_val_score(lasso,X,y,cv=5)\n",
    "\n",
    "# Print the cross-validated scores\n",
    "print(lasso_cv)\n",
    "\n",
    "print(\"Average 5-Fold CV Score: {}\".format(np.mean(lasso_cv)))"
   ]
  },
  {
   "cell_type": "markdown",
   "id": "5fd8e697",
   "metadata": {},
   "source": [
    "$~$\n",
    "___\n",
    "####  Exercise 5\n",
    "\n",
    "$~$\n",
    "\n",
    "Perform some variable engineering process to improve prediction\n",
    "\n",
    "$~$\n",
    "___"
   ]
  },
  {
   "cell_type": "markdown",
   "id": "c1738e76",
   "metadata": {},
   "source": [
    "$~$\n",
    "\n",
    "in order to improve the model we are going to normalize the numerical variables (we are going to use [MinMaxScaler](https://scikit-learn.org/stable/modules/generated/sklearn.preprocessing.MinMaxScaler.html) \n",
    "$~$\n"
   ]
  },
  {
   "cell_type": "markdown",
   "id": "ec8be04b",
   "metadata": {},
   "source": [
    "+ linear regression:"
   ]
  },
  {
   "cell_type": "code",
   "execution_count": 29,
   "id": "c102592b",
   "metadata": {
    "ExecuteTime": {
     "end_time": "2022-04-18T20:05:13.248036Z",
     "start_time": "2022-04-18T20:05:13.192349Z"
    }
   },
   "outputs": [
    {
     "name": "stdout",
     "output_type": "stream",
     "text": [
      "Tuned lineal regression R squared: 0.9827848567809067\n",
      "Root Mean Squared Error: 7.4813326620408365\n"
     ]
    }
   ],
   "source": [
    "#copy_X': True, 'fit_intercept': True, 'normalize': True, 'positive': False\n",
    "\n",
    "# Setup the pipeline steps: steps\n",
    "steps = [ (\"normalizer\", MinMaxScaler()),\n",
    "            (\"reg\", LinearRegression(normalize=False,copy_X=True,fit_intercept=True,positive=False))]\n",
    "\n",
    "# Create the pipeline: pipeline \n",
    "pipeline = Pipeline(steps)\n",
    "\n",
    "# Specify the parameters space\n",
    "parameters = {'fit_intercept':[True,False]}\n",
    "\n",
    " # Create train and test sets\n",
    "X_train, X_test, y_train, y_test = train_test_split(X_num_, y,\n",
    "    test_size=0.3,random_state =42)\n",
    "\n",
    "# Fit the pipeline to the training set\n",
    "\n",
    "reg_norm = pipeline.fit(X_train,y_train)\n",
    "\n",
    "# # Predict on the test data: y_pred\n",
    "y_pred = reg_norm.predict(X_test)\n",
    "\n",
    "# Compute and print the metrics\n",
    "r2_reg_norm = reg_norm.score(X_test, y_test)\n",
    "rmse_reg_nom = np.sqrt(mean_squared_error(y_test,y_pred))\n",
    "\n",
    "\n",
    "print(\"Tuned lineal regression R squared: {}\".format(r2_reg_norm))\n",
    "print(\"Root Mean Squared Error: {}\".format(rmse_reg_nom))\n",
    "\n",
    "\n",
    "\n"
   ]
  },
  {
   "cell_type": "markdown",
   "id": "41806d0a",
   "metadata": {},
   "source": [
    "+ ridge regression:"
   ]
  },
  {
   "cell_type": "code",
   "execution_count": 30,
   "id": "328aa0ec",
   "metadata": {
    "ExecuteTime": {
     "end_time": "2022-04-18T20:05:34.286364Z",
     "start_time": "2022-04-18T20:05:13.269600Z"
    }
   },
   "outputs": [
    {
     "name": "stdout",
     "output_type": "stream",
     "text": [
      "Tuned Ridge R squared: 0.9673314208639724\n",
      "Root Mean Squared Error: 10.305967516818944\n"
     ]
    }
   ],
   "source": [
    "# Setup the pipeline steps: steps\n",
    "steps = [ (\"normalizer\", MinMaxScaler()),\n",
    "            (\"ridge\", Ridge(normalize=False,solver=\"saga\",max_iter=2,positive=False,))]\n",
    "\n",
    "# Create the pipeline: pipeline \n",
    "pipeline = Pipeline(steps)\n",
    "\n",
    "# Create train and test sets\n",
    "X_train, X_test, y_train, y_test = train_test_split(X,y, test_size=0.3, random_state=42)\n",
    "\n",
    "# Fit the pipeline to the training set\n",
    "\n",
    "ridge_norm = pipeline.fit(X_train,y_train)\n",
    "\n",
    "# # Predict on the test data: y_pred\n",
    "y_pred = ridge_norm.predict(X_test)\n",
    "\n",
    "# Compute and print the metrics\n",
    "r2_ridge_norm= ridge_norm.score(X_test, y_test)\n",
    "print(\"Tuned Ridge R squared: {}\".format(r2_ridge_norm))\n",
    "rmse_ridge_norm = np.sqrt(mean_squared_error(y_test,y_pred))\n",
    "print(\"Root Mean Squared Error: {}\".format(rmse_ridge_norm))\n",
    "\n",
    "\n",
    "\n"
   ]
  },
  {
   "cell_type": "markdown",
   "id": "d3b68a7f",
   "metadata": {},
   "source": [
    "+ lasso regression:"
   ]
  },
  {
   "cell_type": "code",
   "execution_count": 31,
   "id": "4f42d8f3",
   "metadata": {
    "ExecuteTime": {
     "end_time": "2022-04-18T20:05:42.410495Z",
     "start_time": "2022-04-18T20:05:34.317477Z"
    }
   },
   "outputs": [
    {
     "name": "stdout",
     "output_type": "stream",
     "text": [
      "Tuned lasso R squared: 0.7890651197160649\n",
      "Root Mean Squared Error: 26.18772952163165\n"
     ]
    }
   ],
   "source": [
    "# Setup the pipeline steps: steps\n",
    "steps = [ (\"normalizer\", MinMaxScaler()),\n",
    "            (\"lasso\", Lasso(warm_start=True,normalize=False, positive=True,fit_intercept=True))]\n",
    "\n",
    "# Create the pipeline: pipeline \n",
    "pipeline = Pipeline(steps)\n",
    "\n",
    "# Create train and test sets\n",
    "X_train, X_test, y_train, y_test = train_test_split(X,y, test_size=0.3, random_state=42)\n",
    "\n",
    "# Fit the pipeline to the training set\n",
    "\n",
    "lasso_norm = pipeline.fit(X_train,y_train)\n",
    "\n",
    "# # Predict on the test data: y_pred\n",
    "y_pred = lasso_norm.predict(X_test)\n",
    "\n",
    "# Compute and print the metrics\n",
    "r2_lasso_norm= lasso_norm.score(X_test, y_test)\n",
    "print(\"Tuned lasso R squared: {}\".format(r2_lasso_norm))\n",
    "rmse_lasso_norm = np.sqrt(mean_squared_error(y_test,y_pred))\n",
    "print(\"Root Mean Squared Error: {}\".format(rmse_lasso_norm))\n",
    "\n",
    "\n",
    "\n",
    "\n"
   ]
  },
  {
   "cell_type": "markdown",
   "id": "ade88084",
   "metadata": {},
   "source": [
    "$~$\n",
    "___\n",
    "####  Exercise 6\n",
    "\n",
    "$~$\n",
    "\n",
    "Do not use the DepDelay variable when making predictions\n",
    "\n",
    "\n",
    "$~$\n",
    "___"
   ]
  },
  {
   "cell_type": "code",
   "execution_count": 32,
   "id": "3ea60296",
   "metadata": {
    "ExecuteTime": {
     "end_time": "2022-04-18T20:05:42.627490Z",
     "start_time": "2022-04-18T20:05:42.446567Z"
    }
   },
   "outputs": [],
   "source": [
    "#drop DepDelay \n",
    "X = X.drop([\"DepDelay\"],axis=1)\n",
    "X_num = X_num.drop([\"DepDelay\"], axis=1)\n"
   ]
  },
  {
   "cell_type": "markdown",
   "id": "ec754831",
   "metadata": {},
   "source": [
    "+ linear regression:"
   ]
  },
  {
   "cell_type": "code",
   "execution_count": 33,
   "id": "53cf713a",
   "metadata": {
    "ExecuteTime": {
     "end_time": "2022-04-18T20:05:42.648665Z",
     "start_time": "2022-04-18T20:05:42.628539Z"
    }
   },
   "outputs": [
    {
     "name": "stdout",
     "output_type": "stream",
     "text": [
      "Tuned lineal regression R squared: 0.1425497342553621\n",
      "Root Mean Squared Error: 52.79929405798076\n"
     ]
    }
   ],
   "source": [
    "#creating feature and target arrays without \"DepDelay\"\n",
    "\n",
    "# X_reg = X_num.values\n",
    "# y_reg = y[\"ArrDelay\"].values\n",
    "\n",
    "# Setup the pipeline steps: steps\n",
    "steps = [ (\"normalizer\", MinMaxScaler()),\n",
    "            (\"reg\", LinearRegression(copy_X= True, fit_intercept= True))]\n",
    "\n",
    "# Create the pipeline: pipeline \n",
    "pipeline = Pipeline(steps)\n",
    "\n",
    "\n",
    " # Create train and test sets\n",
    "X_train, X_test, y_train, y_test = train_test_split(X_num, y,\n",
    "    test_size=0.3,random_state =42 )\n",
    "\n",
    "# Fit the pipeline to the training set\n",
    "\n",
    "reg_norm_without = pipeline.fit(X_train,y_train)\n",
    "\n",
    "# # Predict on the test data: y_pred\n",
    "y_pred = reg_norm_without.predict(X_test)\n",
    "\n",
    "# Compute and print the metrics\n",
    "r2_reg_norm_without = reg_norm_without.score(X_test, y_test)\n",
    "rmse_reg_nom_without = np.sqrt(mean_squared_error(y_test,y_pred))\n",
    "\n",
    "\n",
    "print(\"Tuned lineal regression R squared: {}\".format(r2_reg_norm_without))\n",
    "print(\"Root Mean Squared Error: {}\".format(rmse_reg_nom_without))\n",
    "\n"
   ]
  },
  {
   "cell_type": "markdown",
   "id": "eb96d3b6",
   "metadata": {},
   "source": [
    "+ ridge regression:"
   ]
  },
  {
   "cell_type": "code",
   "execution_count": 36,
   "id": "b92c8fe0",
   "metadata": {
    "ExecuteTime": {
     "end_time": "2022-04-18T20:11:31.004544Z",
     "start_time": "2022-04-18T20:11:21.786011Z"
    }
   },
   "outputs": [
    {
     "name": "stdout",
     "output_type": "stream",
     "text": [
      "Tuned lineal regression R squared: 0.044352154863894544\n",
      "Root Mean Squared Error: 55.74072186678194\n"
     ]
    }
   ],
   "source": [
    "#creating feature and target arrays without \"DepDelay\"\n",
    "\n",
    "# X_ridge = X\n",
    "# y_ridge = y[\"ArrDelay\"].values\n",
    "\n",
    "# Setup the pipeline steps: steps\n",
    "steps = [ (\"normalizer\", MinMaxScaler()),\n",
    "            (\"ridge\", Ridge(normalize=False,solver=\"saga\",max_iter=2,positive=False,))]\n",
    "\n",
    "# Create the pipeline: pipeline \n",
    "pipeline = Pipeline(steps)\n",
    "\n",
    "\n",
    " # Create train and test sets\n",
    "X_train, X_test, y_train, y_test = train_test_split(X, y,\n",
    "    test_size=0.3,random_state =42 )\n",
    "\n",
    "# Fit the pipeline to the training set\n",
    "\n",
    "ridge_norm_without = pipeline.fit(X_train,y_train)\n",
    "\n",
    "# # Predict on the test data: y_pred\n",
    "y_pred = ridge_norm_without.predict(X_test)\n",
    "\n",
    "# Compute and print the metrics\n",
    "r2_ridge_norm_without = ridge_norm_without.score(X_test, y_test)\n",
    "rmse_ridge_nom_without = np.sqrt(mean_squared_error(y_test,y_pred))\n",
    "\n",
    "\n",
    "print(\"Tuned lineal regression R squared: {}\".format(r2_ridge_norm_without))\n",
    "print(\"Root Mean Squared Error: {}\".format(rmse_ridge_nom_without))\n",
    "\n"
   ]
  },
  {
   "cell_type": "markdown",
   "id": "be310d9a",
   "metadata": {},
   "source": [
    "+ lasso regression:"
   ]
  },
  {
   "cell_type": "code",
   "execution_count": 37,
   "id": "4b5d964f",
   "metadata": {
    "ExecuteTime": {
     "end_time": "2022-04-18T20:12:53.283617Z",
     "start_time": "2022-04-18T20:12:45.402453Z"
    }
   },
   "outputs": [
    {
     "name": "stdout",
     "output_type": "stream",
     "text": [
      "Tuned lineal regression R squared: 0.012177624620871574\n",
      "Root Mean Squared Error: 56.671287047222044\n"
     ]
    }
   ],
   "source": [
    "#creating feature and target arrays without \"DepDelay\"\n",
    "\n",
    "# X_lasso = X\n",
    "# y_lasso = y[\"ArrDelay\"].values\n",
    "\n",
    "# Setup the pipeline steps: steps\n",
    "steps = [(\"normalizer\", MinMaxScaler()),\n",
    "(\"y_lasso\", Lasso(alpha=1, fit_intercept=True))]\n",
    "\n",
    "# Create the pipeline: pipeline \n",
    "pipeline = Pipeline(steps)\n",
    "\n",
    "\n",
    " # Create train and test sets\n",
    "X_train, X_test, y_train, y_test = train_test_split(X, y, test_size=0.3,random_state =42 )\n",
    "\n",
    "# Fit the pipeline to the training set\n",
    "\n",
    "y_lasso_norm_without = pipeline.fit(X_train,y_train)\n",
    "\n",
    "# # Predict on the test data: y_pred\n",
    "y_pred = y_lasso_norm_without.predict(X_test)\n",
    "\n",
    "# Compute and print the metrics\n",
    "r2_y_lasso_norm_without = y_lasso_norm_without.score(X_test, y_test)\n",
    "rmse_y_lasso_nom_without = np.sqrt(mean_squared_error(y_test,y_pred))\n",
    "\n",
    "\n",
    "print(\"Tuned lineal regression R squared: {}\".format(r2_y_lasso_norm_without))\n",
    "print(\"Root Mean Squared Error: {}\".format(rmse_y_lasso_nom_without))\n",
    "\n",
    "\n"
   ]
  },
  {
   "cell_type": "markdown",
   "id": "56c717bf",
   "metadata": {},
   "source": [
    "\n",
    "#### Compare all MSE and R2.\n"
   ]
  },
  {
   "cell_type": "code",
   "execution_count": 38,
   "id": "2ab5397e",
   "metadata": {
    "ExecuteTime": {
     "end_time": "2022-04-18T20:12:53.319999Z",
     "start_time": "2022-04-18T20:12:53.289767Z"
    }
   },
   "outputs": [
    {
     "data": {
      "text/html": [
       "<div>\n",
       "<style scoped>\n",
       "    .dataframe tbody tr th:only-of-type {\n",
       "        vertical-align: middle;\n",
       "    }\n",
       "\n",
       "    .dataframe tbody tr th {\n",
       "        vertical-align: top;\n",
       "    }\n",
       "\n",
       "    .dataframe thead th {\n",
       "        text-align: right;\n",
       "    }\n",
       "</style>\n",
       "<table border=\"1\" class=\"dataframe\">\n",
       "  <thead>\n",
       "    <tr style=\"text-align: right;\">\n",
       "      <th></th>\n",
       "      <th>R^2</th>\n",
       "      <th>RMSE</th>\n",
       "    </tr>\n",
       "  </thead>\n",
       "  <tbody>\n",
       "    <tr>\n",
       "      <th>Linear_regression</th>\n",
       "      <td>0.982785</td>\n",
       "      <td>7.481333</td>\n",
       "    </tr>\n",
       "    <tr>\n",
       "      <th>Ridge_regression</th>\n",
       "      <td>0.973670</td>\n",
       "      <td>9.252267</td>\n",
       "    </tr>\n",
       "    <tr>\n",
       "      <th>Lasso_regression</th>\n",
       "      <td>0.982778</td>\n",
       "      <td>7.482885</td>\n",
       "    </tr>\n",
       "    <tr>\n",
       "      <th>Linear_regression_gridsearch</th>\n",
       "      <td>0.979629</td>\n",
       "      <td>7.481333</td>\n",
       "    </tr>\n",
       "    <tr>\n",
       "      <th>Ridge_regression_gridsearch</th>\n",
       "      <td>0.976265</td>\n",
       "      <td>9.252267</td>\n",
       "    </tr>\n",
       "    <tr>\n",
       "      <th>Lasso_regression_gridsearch</th>\n",
       "      <td>0.979689</td>\n",
       "      <td>7.482885</td>\n",
       "    </tr>\n",
       "    <tr>\n",
       "      <th>Linear_regression_normalized</th>\n",
       "      <td>0.982785</td>\n",
       "      <td>7.481333</td>\n",
       "    </tr>\n",
       "    <tr>\n",
       "      <th>Ridge_regression_normalized</th>\n",
       "      <td>0.967331</td>\n",
       "      <td>10.305968</td>\n",
       "    </tr>\n",
       "    <tr>\n",
       "      <th>Lasso_regression_normalized</th>\n",
       "      <td>0.789065</td>\n",
       "      <td>26.187730</td>\n",
       "    </tr>\n",
       "    <tr>\n",
       "      <th>Linear_regression_non_Depdelay</th>\n",
       "      <td>0.142550</td>\n",
       "      <td>52.799294</td>\n",
       "    </tr>\n",
       "    <tr>\n",
       "      <th>Ridge_regression__non_Depdelay</th>\n",
       "      <td>0.044352</td>\n",
       "      <td>55.740722</td>\n",
       "    </tr>\n",
       "    <tr>\n",
       "      <th>Lasso_regression__non_Depdelay</th>\n",
       "      <td>0.012178</td>\n",
       "      <td>56.671287</td>\n",
       "    </tr>\n",
       "  </tbody>\n",
       "</table>\n",
       "</div>"
      ],
      "text/plain": [
       "                                     R^2       RMSE\n",
       "Linear_regression               0.982785   7.481333\n",
       "Ridge_regression                0.973670   9.252267\n",
       "Lasso_regression                0.982778   7.482885\n",
       "Linear_regression_gridsearch    0.979629   7.481333\n",
       "Ridge_regression_gridsearch     0.976265   9.252267\n",
       "Lasso_regression_gridsearch     0.979689   7.482885\n",
       "Linear_regression_normalized    0.982785   7.481333\n",
       "Ridge_regression_normalized     0.967331  10.305968\n",
       "Lasso_regression_normalized     0.789065  26.187730\n",
       "Linear_regression_non_Depdelay  0.142550  52.799294\n",
       "Ridge_regression__non_Depdelay  0.044352  55.740722\n",
       "Lasso_regression__non_Depdelay  0.012178  56.671287"
      ]
     },
     "execution_count": 38,
     "metadata": {},
     "output_type": "execute_result"
    }
   ],
   "source": [
    "# assign data of lists.\n",
    "data = {'R^2': [r2_reg, r2_ridge, r2_lasso, r2_reg_grid, r2_ridge_grid,\n",
    "                r2_lasso_grid, r2_reg_norm, r2_ridge_norm, r2_lasso_norm,r2_reg_norm_without,\n",
    "                r2_ridge_norm_without,r2_y_lasso_norm_without],\n",
    "        'RMSE': [rmse_reg, rmse_ridge, rmse_lasso, rmse_reg_grid, rmse_rigde_grid,\n",
    "                 rmse_lasso_grid, rmse_reg_nom, rmse_ridge_norm, rmse_lasso_norm,rmse_reg_nom_without,\n",
    "                 rmse_ridge_nom_without,rmse_y_lasso_nom_without]}\n",
    "\n",
    "# Creates pandas DataFrame\n",
    "df = pd.DataFrame(data, index=['Linear_regression',\n",
    "                               'Ridge_regression', 'Lasso_regression', \"Linear_regression_gridsearch\",\n",
    "                               \"Ridge_regression_gridsearch\", \"Lasso_regression_gridsearch\", \"Linear_regression_normalized\", \n",
    "                               \"Ridge_regression_normalized\", \"Lasso_regression_normalized\",\"Linear_regression_non_Depdelay\",\n",
    "                               \"Ridge_regression__non_Depdelay\",\"Lasso_regression__non_Depdelay\"])\n",
    "\n",
    "# print the dataframe\n",
    "df\n"
   ]
  },
  {
   "cell_type": "markdown",
   "id": "dca1eb0c",
   "metadata": {},
   "source": [
    "$~$\n",
    "___\n",
    "####  Conclusions\n",
    "\n",
    "$~$\n",
    "\n",
    "+ Some considerations about the size of the data:\n",
    "\n",
    "    + to generate the models, I had to take a sample of 1% of the data. Despite this, the execution time of the models has been quite high. to generate the models, I had to take a sample of 1% of the data. Despite this, the execution time of the models has been quite high. Especially for the execution of the Gridsearch. where I have only been able to find the best alpha, when there are certainly other hyperparameters that could be improved\n",
    "\n",
    "+ This can be seen in all the models we have generated. The linear regression model may, due to the scores, be better, however, it must be taken into account how general it is. In fact, this is the reason why for the linear regression model I have used only the numerical variables. If we compare the scores of the linear regression (which only receives numerical variables) with the other two regressions, we see that the scores are relatively close. This, in other words, shows us that the algorithm of the ridge and lasso regressions discriminate the insignificant independent variables.\n",
    "\n",
    "+ In the case with Cross Validation, there is no improvement with respect to the models, so we can say that the models could be improved and that the first models have a bias to improve.\n",
    "\n",
    "+ To improve the models we can adjust the hyperparameters. we could have chosen between grind-search or random-search to do it. I chose grind-search, knowing that this method has a very high computational cost. Precisely to test my computer. In this case I have only evaluated the alpha value in the models, however, there are many more hyperameters that can be evaluated.\n",
    "\n",
    "+ Since there are outliers in the dataframe, I have chosen to normalize the data using the MinMaxScaler method. \n",
    "\n",
    "    +   it performance doesn't affect the lineal regression model.\n",
    "    +  however, the normalization process does affect the lasso and ridge models. Lasso regression puts constraints on the size of the coefficients associated to each variable. However, this value will depend on the magnitude of each variable. The result of centering the variables means that there is no longer an intercept. This applies equally to ridge regression.\n",
    "\n",
    "\n",
    "+ After removing the variable \"DepDelay\", the results show that this variable is very important to explain ArrDelay. This is verified in the low results of the models.\n",
    "\n",
    "\n",
    "+ finally, finally we can understand that in lasso regression, algorithm is trying to remove the extra features that doesn't have any use which sounds better because we can train with less data very nicely as well but the processing is a little bit harder, but in ridge regression the algorithm is trying to make those extra features less effective but not removing them completely which is easier to process. \n",
    "\n",
    "\n",
    "\n",
    "\n",
    "___\n",
    "$~$"
   ]
  },
  {
   "cell_type": "markdown",
   "id": "d0eedf5c",
   "metadata": {},
   "source": [
    "___\n",
    "$~$\n",
    "\n",
    "####  *References*:\n",
    "\n",
    "+ [methods for classification & regression](https://www.educative.io/blog/scikit-learn-cheat-sheet-classification-regression-methods) \n",
    "+ [Hyperparameter Optimization With Random Search and Grid Search](https://machinelearningmastery.com/hyperparameter-optimization-with-random-search-and-grid-search/) \n",
    "+ []() \n",
    "$~$\n",
    "___"
   ]
  }
 ],
 "metadata": {
  "kernelspec": {
   "display_name": "Python 3 (ipykernel)",
   "language": "python",
   "name": "python3"
  },
  "language_info": {
   "codemirror_mode": {
    "name": "ipython",
    "version": 3
   },
   "file_extension": ".py",
   "mimetype": "text/x-python",
   "name": "python",
   "nbconvert_exporter": "python",
   "pygments_lexer": "ipython3",
   "version": "3.9.12"
  },
  "toc": {
   "base_numbering": 1,
   "nav_menu": {},
   "number_sections": false,
   "sideBar": true,
   "skip_h1_title": false,
   "title_cell": "Table of Contents",
   "title_sidebar": "Contents",
   "toc_cell": false,
   "toc_position": {},
   "toc_section_display": true,
   "toc_window_display": true
  }
 },
 "nbformat": 4,
 "nbformat_minor": 5
}
