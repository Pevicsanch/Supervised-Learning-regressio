{
 "cells": [
  {
   "cell_type": "markdown",
   "id": "857001a9",
   "metadata": {},
   "source": [
    "$~$\n",
    "\n",
    "# IT Academy - Data Science Itinerary\n",
    "\n",
    "\n",
    "\n",
    "$~$"
   ]
  },
  {
   "cell_type": "markdown",
   "id": "ad6e86cc",
   "metadata": {},
   "source": [
    "## S9 T2: Regression Models\n",
    "___\n"
   ]
  },
  {
   "cell_type": "code",
   "execution_count": null,
   "id": "343f71ef",
   "metadata": {},
   "outputs": [],
   "source": [
    "#importing libraries\n"
   ]
  },
  {
   "cell_type": "markdown",
   "id": "7557656a",
   "metadata": {},
   "source": [
    "$~$\n",
    "___\n",
    "####  Exercise 1\n",
    "\n",
    "$~$\n",
    "\n",
    "Create at least three different regression models to try to predict DelayedFlights.csv's flight delay (ArrDelay) as best you can. \n",
    "\n",
    "$~$\n",
    "___"
   ]
  },
  {
   "cell_type": "markdown",
   "id": "214112c9",
   "metadata": {},
   "source": [
    "$~$\n",
    "___\n",
    "####  Exercise 2\n",
    "\n",
    "$~$\n",
    "\n",
    "Compare them based on MSE and R2.\n",
    "\n",
    "$~$\n",
    "___"
   ]
  },
  {
   "cell_type": "code",
   "execution_count": null,
   "id": "fee2d2ad",
   "metadata": {},
   "outputs": [],
   "source": []
  },
  {
   "cell_type": "markdown",
   "id": "d7caa1ff",
   "metadata": {},
   "source": [
    "$~$\n",
    "___\n",
    "####  Exercise 3\n",
    "\n",
    "$~$\n",
    "\n",
    "Train them using the different parameters they support.\n",
    "\n",
    "$~$\n",
    "___"
   ]
  },
  {
   "cell_type": "code",
   "execution_count": null,
   "id": "b0fe42e7",
   "metadata": {},
   "outputs": [],
   "source": []
  },
  {
   "cell_type": "markdown",
   "id": "84b4ec26",
   "metadata": {},
   "source": [
    "$~$\n",
    "___\n",
    "####  Exercise 4\n",
    "\n",
    "$~$\n",
    "\n",
    "Compare your performance using the train / test approach or using all data (internal validation)\n",
    "\n",
    "$~$\n",
    "___"
   ]
  },
  {
   "cell_type": "code",
   "execution_count": null,
   "id": "ba05d359",
   "metadata": {},
   "outputs": [],
   "source": []
  },
  {
   "cell_type": "markdown",
   "id": "2fa327f4",
   "metadata": {},
   "source": [
    "$~$\n",
    "___\n",
    "####  Exercise 4\n",
    "\n",
    "$~$\n",
    "\n",
    "Compare your performance using the train / test approach or using all data (internal validation)\n",
    "\n",
    "$~$\n",
    "___"
   ]
  },
  {
   "cell_type": "code",
   "execution_count": null,
   "id": "cf3d02af",
   "metadata": {},
   "outputs": [],
   "source": []
  },
  {
   "cell_type": "markdown",
   "id": "5fd8e697",
   "metadata": {},
   "source": [
    "$~$\n",
    "___\n",
    "####  Exercise 5\n",
    "\n",
    "$~$\n",
    "\n",
    "Perform some variable engineering process to improve prediction\n",
    "\n",
    "$~$\n",
    "___"
   ]
  },
  {
   "cell_type": "code",
   "execution_count": null,
   "id": "c102592b",
   "metadata": {},
   "outputs": [],
   "source": []
  },
  {
   "cell_type": "markdown",
   "id": "ade88084",
   "metadata": {},
   "source": [
    "$~$\n",
    "___\n",
    "####  Exercise 6\n",
    "\n",
    "$~$\n",
    "\n",
    "Do not use the DepDelay variable when making predictions\n",
    "\n",
    "\n",
    "$~$\n",
    "___"
   ]
  },
  {
   "cell_type": "code",
   "execution_count": null,
   "id": "3ea60296",
   "metadata": {},
   "outputs": [],
   "source": []
  },
  {
   "cell_type": "markdown",
   "id": "dca1eb0c",
   "metadata": {},
   "source": [
    "$~$\n",
    "___\n",
    "####  Conclusions\n",
    "\n",
    "$~$\n",
    "\n",
    "\n",
    "\n",
    "\n",
    "___\n",
    "$~$"
   ]
  },
  {
   "cell_type": "markdown",
   "id": "d0eedf5c",
   "metadata": {},
   "source": [
    "___\n",
    "$~$\n",
    "\n",
    "####  *References*:\n",
    "\n",
    "+ []() \n",
    "+ []() \n",
    "+ []() \n",
    "$~$\n",
    "___"
   ]
  }
 ],
 "metadata": {
  "kernelspec": {
   "display_name": "Python 3 (ipykernel)",
   "language": "python",
   "name": "python3"
  },
  "language_info": {
   "codemirror_mode": {
    "name": "ipython",
    "version": 3
   },
   "file_extension": ".py",
   "mimetype": "text/x-python",
   "name": "python",
   "nbconvert_exporter": "python",
   "pygments_lexer": "ipython3",
   "version": "3.9.5"
  },
  "toc": {
   "base_numbering": 1,
   "nav_menu": {},
   "number_sections": false,
   "sideBar": true,
   "skip_h1_title": false,
   "title_cell": "Table of Contents",
   "title_sidebar": "Contents",
   "toc_cell": false,
   "toc_position": {},
   "toc_section_display": true,
   "toc_window_display": true
  }
 },
 "nbformat": 4,
 "nbformat_minor": 5
}
